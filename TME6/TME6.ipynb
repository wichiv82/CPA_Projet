{
 "cells": [
  {
   "cell_type": "code",
   "execution_count": 2,
   "metadata": {},
   "outputs": [],
   "source": [
    "# Exercice 1\n",
    "PATH = \"email-Eu-core.txt/\""
   ]
  },
  {
   "cell_type": "code",
   "execution_count": 3,
   "metadata": {},
   "outputs": [],
   "source": [
    "def readFile(f,Path = PATH, char_separateur = \" \"):\n",
    "    lines = open(Path + f,\"r\").read()[:-1].split(\"\\n\")\n",
    "    while lines[0][0] == \"#\":\n",
    "        del lines[0]\n",
    "\n",
    "    D = {}\n",
    "    lines = [ i.split(char_separateur) for i in lines]\n",
    "    for line in lines:\n",
    "        map(int,line)\n",
    "        if int(line[0]) > int(line[1]): line[0],line[1] = line[1],line[0]\n",
    "    lines.sort()\n",
    "        \n",
    "    for i in range(0,len(lines)):\n",
    "        line = lines[i]\n",
    "        if line[0] == line[1]: continue\n",
    "        if i != len(lines) - 1 and lines[i] == lines[i+1]: continue\n",
    "        \n",
    "        D[line[0]] = D.get(line[0],[]) + [line[1]]\n",
    "        D[line[1]] = D.get(line[1],[]) + [line[0]]\n",
    "    \n",
    "    return D"
   ]
  },
  {
   "cell_type": "code",
   "execution_count": 4,
   "metadata": {},
   "outputs": [],
   "source": [
    "def ajouter(tas, noeud, degre, indices_tas):\n",
    "    indices_tas[noeud] = len(tas)\n",
    "    tas.extend([[noeud,degre]])\n",
    "    index = len(tas) - 1\n",
    "    while index > 0 and tas[(index - 1)//2][1] > tas[index][1]:\n",
    "        indices_tas[tas[(index - 1)//2][0]],indices_tas[tas[index][0]] = indices_tas[tas[index][0]],indices_tas[tas[(index - 1)>>1][0]]\n",
    "        tas[(index - 1)//2],tas[index] = tas[index],tas[(index - 1)>>1]\n",
    "        index = (index - 1)>>1            \n",
    "    return tas, indices_tas"
   ]
  },
  {
   "cell_type": "code",
   "execution_count": 5,
   "metadata": {},
   "outputs": [],
   "source": [
    "def percolate(tas, index, indices_tas) :\n",
    "    left = index*2+1\n",
    "    right = index*2+2\n",
    "    \n",
    "    if left < len(tas):\n",
    "        if tas[left][1] < tas[index][1]:\n",
    "            indices_tas[tas[left][0]], indices_tas[tas[index][0]] = indices_tas[tas[index][0]],indices_tas[tas[left][0]]\n",
    "            tas[left], tas[index] = tas[index],tas[left]\n",
    "            tas, indices_tas = percolate(tas, left, indices_tas)\n",
    "    \n",
    "    if right < len(tas):\n",
    "        if tas[right][1] < tas[index][1]:\n",
    "            indices_tas[tas[right][0]],indices_tas[tas[index][0]] = indices_tas[tas[index][0]],indices_tas[tas[right][0]]\n",
    "            tas[right], tas[index] = tas[index],tas[right]\n",
    "            tas, indices_tas = percolate(tas, right, indices_tas)\n",
    "    \n",
    "    return tas, indices_tas"
   ]
  },
  {
   "cell_type": "code",
   "execution_count": 6,
   "metadata": {},
   "outputs": [],
   "source": [
    "def percolate_inverse(tas, index, indices_tas):\n",
    "    if index <= 2:\n",
    "        return tas, indices_tas\n",
    "    \n",
    "    pere = (index-1)//2\n",
    "    \n",
    "    if (tas[index][1] < tas[pere][1]):\n",
    "        tas[index], tas[pere] = tas[pere], tas[index]\n",
    "        indices_tas[tas[index][0]], indices_tas[tas[pere][0]] = indices_tas[tas[pere][0]], indices_tas[tas[index][0]]\n",
    "        tas, indices_tas = percolate_inverse(tas, pere, indices_tas)\n",
    "    \n",
    "    return tas, indices_tas"
   ]
  },
  {
   "cell_type": "code",
   "execution_count": 7,
   "metadata": {},
   "outputs": [],
   "source": [
    "def supprimer(tas, indices_tas) :\n",
    "    if len(tas) < 1:\n",
    "         return [], indices_tas\n",
    "    \n",
    "    indices_tas[tas[0][0]] = -1\n",
    "    \n",
    "    if len(tas) == 1:\n",
    "        return [], indices_tas\n",
    "    \n",
    "    tas[0] = tas[-1]\n",
    "    indices_tas[tas[0][0]] = 0\n",
    "    del(tas[-1])\n",
    "    \n",
    "    tas, indices_tas = percolate(tas, 0 , indices_tas)\n",
    "    \n",
    "    return tas, indices_tas"
   ]
  },
  {
   "cell_type": "code",
   "execution_count": 8,
   "metadata": {},
   "outputs": [],
   "source": [
    "def tas_min(D) : \n",
    "    tas = []\n",
    "    indices_tas = {}\n",
    "    for k in D.keys():\n",
    "        tas, indices_tas = ajouter(tas, k, len(D[k]), indices_tas)\n",
    "    return tas, indices_tas"
   ]
  },
  {
   "cell_type": "code",
   "execution_count": 9,
   "metadata": {},
   "outputs": [],
   "source": [
    "def maj(D, tas, noeud, degre, indices_tas) :\n",
    "    for voisin in D[noeud]:\n",
    "        if indices_tas[voisin] != -1:\n",
    "            tas[indices_tas[voisin]][1] -= 1\n",
    "            tas, indices_tas = percolate_inverse(tas, indices_tas[voisin] , indices_tas)\n",
    "     \n",
    "    return tas, indices_tas"
   ]
  },
  {
   "cell_type": "code",
   "execution_count": 10,
   "metadata": {},
   "outputs": [],
   "source": [
    "def core_decomposition(D) :\n",
    "    c = 0\n",
    "    res = []\n",
    "    tas, indices_tas = tas_min(D)\n",
    "    indices_decomp = {}\n",
    "    i = len(tas) - 1\n",
    "    \n",
    "    while len(tas) > 0:\n",
    "        c = max(c, tas[0][1])\n",
    "        res.append([tas[0][0], c])\n",
    "        indices_decomp[tas[0][0]] = i\n",
    "        tas, indices_tas = maj(D, tas, tas[0][0], tas[0][1], indices_tas)\n",
    "        tas, indices_tas = supprimer(tas, indices_tas)\n",
    "        i -= 1\n",
    "    res.reverse()\n",
    "    return res, indices_decomp"
   ]
  },
  {
   "cell_type": "code",
   "execution_count": 11,
   "metadata": {},
   "outputs": [],
   "source": [
    "def densest_core_ordering_prefix(D):\n",
    "    decomp, indices_decomposition = core_decomposition(D)\n",
    "    densest_core = 0\n",
    "    nb_noeuds = 0\n",
    "    nb_edges = 0\n",
    "    print(decomp[:20])\n",
    "    for i in range(len(decomp)):\n",
    "        for voisin in D[decomp[i][0]]:\n",
    "            if indices_decomposition[voisin] < i:\n",
    "                nb_edges += 1\n",
    "        \n",
    "        average = nb_edges/(i+1)\n",
    "        \n",
    "        if average > densest_core:\n",
    "            densest_core = average\n",
    "            nb_noeuds = i+1\n",
    "                \n",
    "        if i%100000 == 0:\n",
    "            print(i)\n",
    "\n",
    "    print(\"FIN DE ORDERING PREFIX\")\n",
    "    print(\"average degree density, edge density, size prefix\")\n",
    "    return densest_core, densest_core/(nb_noeuds-1), nb_noeuds"
   ]
  },
  {
   "cell_type": "code",
   "execution_count": 12,
   "metadata": {
    "scrolled": true
   },
   "outputs": [
    {
     "name": "stdout",
     "output_type": "stream",
     "text": [
      "fin du readFile\n",
      "Densest core value\n",
      "[['114', 34], ['107', 34], ['128', 34], ['129', 34], ['183', 34], ['121', 34], ['81', 34], ['212', 34], ['21', 34], ['329', 34], ['87', 34], ['303', 34], ['160', 34], ['371', 34], ['249', 34], ['82', 34], ['28', 34], ['169', 34], ['105', 34], ['405', 34]]\n",
      "0\n",
      "FIN DE ORDERING PREFIX\n",
      "average degree density, edge density, size prefix\n",
      "(27.56637168141593, 0.12251720747295969, 226)\n"
     ]
    }
   ],
   "source": [
    "d = readFile(\"email-Eu-core-clean.txt\")\n",
    "#d = readFile(\"email-Eu-core-clean.txt\",\"/Vrac/TME_CPA_19-02-20/\")\n",
    "#d = readFile(\"com-amazon.ungraph-clean.txt\",\"/Vrac/TME_CPA_19-02-20/\",\"\\t\")\n",
    "#d = readFile(\"com-lj.ungraph-clean.txt\",\"/Vrac/TME_CPA_19-02-20/\",\"\\t\")\n",
    "#d = readFile(\"com-orkut.ungraph-clean.txt\",\"/Vrac/TME_CPA_19-02-20/\",\"\\t\")\n",
    "print(\"fin du readFile\")\n",
    "\n",
    "print(\"Densest core value\")\n",
    "print(densest_core_ordering_prefix(d))"
   ]
  },
  {
   "cell_type": "code",
   "execution_count": 13,
   "metadata": {},
   "outputs": [
    {
     "name": "stdout",
     "output_type": "stream",
     "text": [
      "fin du core_decomposition\n"
     ]
    }
   ],
   "source": [
    "#Exercice 2\n",
    "import matplotlib.pyplot as plt\n",
    "import numpy as np\n",
    "\n",
    "g = readFile(\"net.txt\", \"scholar/\")\n",
    "\n",
    "core, z = core_decomposition(g)\n",
    "print(\"fin du core_decomposition\")\n",
    "\n",
    "for noeud in core :\n",
    "    noeud += [len(g[noeud[0]])]\n"
   ]
  },
  {
   "cell_type": "code",
   "execution_count": 14,
   "metadata": {},
   "outputs": [
    {
     "data": {
      "image/png": "[encoded data removed]",
      "text/plain": [
       "<Figure size 432x288 with 1 Axes>"
      ]
     },
     "metadata": {
      "needs_background": "light"
     },
     "output_type": "display_data"
    }
   ],
   "source": [
    "plt.grid(True)\n",
    "plt.ylabel(\"Coreness\")\n",
    "plt.xlabel(\"Degree\")\n",
    "plt.plot([core[i][2] for i in range(len(core))],\\\n",
    "         [core[i][1] for i in range(len(core))],\"bo\") #x,y\n",
    "plt.show()"
   ]
  },
  {
   "cell_type": "code",
   "execution_count": 28,
   "metadata": {},
   "outputs": [],
   "source": [
    "#Exercice 3\n",
    "def readFile_oriente(f,Path = PATH, char_separateur = \" \"):\n",
    "\n",
    "    lines = open(Path + f,\"r\").read()[:-1].split(\"\\n\")\n",
    "    while lines[0][0] == \"#\":\n",
    "        del lines[0]\n",
    "    D = {}\n",
    "    D_oriente = {}\n",
    "    lines = [ i.split(char_separateur) for i in lines]\n",
    "    for line in lines:\n",
    "        map(int,line)\n",
    "        if int(line[0]) > int(line[1]): line[0],line[1] = line[1],line[0]\n",
    "    lines.sort()\n",
    "        \n",
    "    for i in range(0,len(lines)):\n",
    "        line = lines[i]\n",
    "        if line[0] == line[1]: continue\n",
    "        if i != len(lines) - 1 and lines[i] == lines[i+1]: continue\n",
    "            \n",
    "        if int(line[0]) < int(line[1]) :\n",
    "            D_oriente[line[0]] = D_oriente.get(line[0],[]) + [line[1]]\n",
    "        \n",
    "        D[line[0]] = D.get(line[0],[]) + [line[1]]\n",
    "        D[line[1]] = D.get(line[1],[]) + [line[0]]\n",
    "        \n",
    "    return D, D_oriente"
   ]
  },
  {
   "cell_type": "code",
   "execution_count": 29,
   "metadata": {},
   "outputs": [],
   "source": [
    "def density_score(D, t = 10):\n",
    "    r = {}    \n",
    "    for noeud in D.keys():\n",
    "        r[noeud] = 0\n",
    "    \n",
    "    for noeuds in D.values():\n",
    "        for noeud in noeuds :\n",
    "            r[noeud] = 0\n",
    "        \n",
    "    for i in range(t):\n",
    "        for noeud in D.keys():\n",
    "            for voisin in D[noeud]: \n",
    "                if r[noeud] <= r[voisin]:\n",
    "                    r[noeud] += 1\n",
    "                else:\n",
    "                    r[voisin] += 1\n",
    "    \n",
    "    for n in r.keys():\n",
    "        r[n] = r[n]/t\n",
    "    \n",
    "    return r"
   ]
  },
  {
   "cell_type": "code",
   "execution_count": 30,
   "metadata": {},
   "outputs": [],
   "source": [
    "import operator\n",
    "\n",
    "def sorted_density_score(score_dico):\n",
    "    indices_score = {}\n",
    "    sorted_list = []\n",
    "    for s in score_dico.keys() :\n",
    "        sorted_list.append([int(s), score_dico[s]])\n",
    "        \n",
    "    sorted_list.sort(key = operator.itemgetter(1))\n",
    "    sorted_list.reverse()\n",
    "    \n",
    "    indice = 0\n",
    "    for e in sorted_list :\n",
    "        indices_score[str(e[0])] = indice\n",
    "        indice += 1\n",
    "    return sorted_list, indices_score"
   ]
  },
  {
   "cell_type": "code",
   "execution_count": 31,
   "metadata": {},
   "outputs": [],
   "source": [
    "def densest_core_ordering_density_score(D, D_oriente, t = 10):\n",
    "    score, indices_score = sorted_density_score(density_score(D_oriente, t))\n",
    "    \n",
    "    densest_score = 0\n",
    "    nb_noeuds = 0\n",
    "    nb_edges = 0\n",
    "    print(score[:5])\n",
    "    \n",
    "    for i in range(len(score)):\n",
    "        for voisin in D.get(str(score[i][0]),[]):\n",
    "            if indices_score[voisin] < i:\n",
    "                nb_edges += 1\n",
    "        \n",
    "        average = nb_edges/(i+1)\n",
    "        \n",
    "        if average > densest_score:\n",
    "            densest_score = average\n",
    "            nb_noeuds = i+1\n",
    "        \n",
    "        if i%100000 == 0:\n",
    "            print(i)\n",
    "                \n",
    "    print(\"FIN DE ORDERING PREFIX\")\n",
    "    print(\"average degree density, edge density, size prefix\")\n",
    "    return densest_score, densest_score/(nb_noeuds-1), nb_noeuds"
   ]
  },
  {
   "cell_type": "code",
   "execution_count": 32,
   "metadata": {},
   "outputs": [],
   "source": [
    "#D = readFile(\"email-Eu-core-clean.txt\",\"/Vrac/TME_CPA_19-02-20/\")\n",
    "\n",
    "D, D_oriente = readFile_oriente(\"email-Eu-core-clean.txt\")\n",
    "\n",
    "#D, D_oriente = readFile_oriente(\"com-amazon.ungraph-clean.txt\",PATH,\"\\t\")\n"
   ]
  },
  {
   "cell_type": "code",
   "execution_count": 33,
   "metadata": {},
   "outputs": [
    {
     "name": "stdout",
     "output_type": "stream",
     "text": [
      "[[87, 27.73], [859, 27.73], [856, 27.73], [820, 27.73], [932, 27.72]]\n",
      "0\n",
      "FIN DE ORDERING PREFIX\n",
      "average degree density, edge density, size prefix\n"
     ]
    },
    {
     "data": {
      "text/plain": [
       "(27.56578947368421, 0.12143519591931369, 228)"
      ]
     },
     "execution_count": 33,
     "metadata": {},
     "output_type": "execute_result"
    }
   ],
   "source": [
    "densest_core_ordering_density_score(D, D_oriente,100)"
   ]
  },
  {
   "cell_type": "code",
   "execution_count": null,
   "metadata": {},
   "outputs": [],
   "source": []
  }
 ],
 "metadata": {
  "kernelspec": {
   "display_name": "Python 3",
   "language": "python",
   "name": "python3"
  },
  "language_info": {
   "codemirror_mode": {
    "name": "ipython",
    "version": 3
   },
   "file_extension": ".py",
   "mimetype": "text/x-python",
   "name": "python",
   "nbconvert_exporter": "python",
   "pygments_lexer": "ipython3",
   "version": "3.6.4"
  }
 },
 "nbformat": 4,
 "nbformat_minor": 2
}
